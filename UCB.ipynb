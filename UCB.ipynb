{
 "cells": [
  {
   "cell_type": "code",
   "execution_count": 2,
   "metadata": {},
   "outputs": [],
   "source": [
    "import numpy as np"
   ]
  },
  {
   "cell_type": "code",
   "execution_count": 8,
   "metadata": {},
   "outputs": [],
   "source": [
    "num_samples = 1000\n",
    "num_arms = 4\n",
    "mean = np.random.rand(num_arms,)\n",
    "sigma = 1\n",
    "sorted_mean = np.sort(mean)\n",
    "Delta = sorted_mean[-1]-sorted_mean[-2]"
   ]
  },
  {
   "cell_type": "code",
   "execution_count": 9,
   "metadata": {},
   "outputs": [],
   "source": [
    "class EE21B063_UCB:\n",
    "  def __init__(self,num_arms,num_samples,sigma):\n",
    "    self.__num_arms = num_arms\n",
    "    self.__num_samples = num_samples\n",
    "    self.__sigma = sigma\n",
    "    self.pred_mean = np.zeros(num_arms,dtype=float)\n",
    "    self.times_choosen = np.zeros(num_arms,dtype=float)\n",
    "    self.time = 0\n",
    "    self.init_over = 0\n",
    "    self.prev_action = -1\n",
    "\n",
    "  def get_action(self,reward):\n",
    "\n",
    "    # Initialization pick all arms once\n",
    "    if(self.init_over == 0):\n",
    "      if(self.time != 0) : self.pred_mean[self.time-1] = reward\n",
    "      self.times_choosen[self.time] = 1\n",
    "      self.time = self.time + 1\n",
    "      if(self.time == num_arms): self.init_over = 1\n",
    "      print(self.time,self.pred_mean)\n",
    "      return self.time - 1\n",
    "    \n",
    "    \n",
    "    else:\n",
    "      maxx = -10**20\n",
    "      cur_action = -1\n",
    "      # print(self.time, self.pred_mean )\n",
    "      # Update\n",
    "      if(self.prev_action == -1 ): self.pred_mean[self.time - 1] = reward\n",
    "      else : self.pred_mean[self.prev_action] = ((self.times_choosen[self.prev_action] - 1.0)*self.pred_mean[self.prev_action] + reward)/(1.0*self.times_choosen[self.prev_action])\n",
    "      ucb_list = []\n",
    "      for i in range(num_arms):\n",
    "         ucb = self.pred_mean[i] + sigma*np.sqrt(4.0*np.log(self.__num_samples+ 1))/(1.0*self.times_choosen[i])\n",
    "         ucb_list.append(ucb)\n",
    "         if(ucb > maxx):\n",
    "            maxx = ucb\n",
    "            cur_action = i\n",
    "      # print(self.time,ucb_list,self.pred_mean)\n",
    "      self.times_choosen[cur_action] =  1 + self.times_choosen[cur_action]\n",
    "      self.time = self.time + 1\n",
    "      self.prev_action = cur_action\n",
    "      return cur_action\n",
    "    \n"
   ]
  },
  {
   "cell_type": "code",
   "execution_count": 10,
   "metadata": {},
   "outputs": [],
   "source": [
    "class Environment:\n",
    "  def __init__(self,num_arms,mean,sigma,agent):\n",
    "    self.__num_samples = num_samples\n",
    "    self.__num_arms = num_arms\n",
    "    self.__mean = mean\n",
    "    self.__reward = -100\n",
    "    self.__action = np.zeros((num_samples,),dtype = int)\n",
    "    self.__agent = agent\n",
    "    self.__regret = 0\n",
    "\n",
    "  def run(self):\n",
    "    for i in range(self.__num_samples):\n",
    "      self.__action[i] = self.__agent.get_action(self.__reward)\n",
    "      self.__reward = self.__mean[self.__action[i]]+sigma*np.random.randn()\n",
    "    return self.__action\n"
   ]
  },
  {
   "cell_type": "code",
   "execution_count": 11,
   "metadata": {},
   "outputs": [
    {
     "name": "stdout",
     "output_type": "stream",
     "text": [
      "[0.41758064 0.15942536 0.71661984 0.63020107]\n",
      "1 [0. 0. 0. 0.]\n",
      "2 [-1.07451565  0.          0.          0.        ]\n",
      "3 [-1.07451565 -0.37361034  0.          0.        ]\n",
      "4 [-1.07451565 -0.37361034  1.11191631  0.        ]\n"
     ]
    }
   ],
   "source": [
    "agent = EE21B063_UCB(num_arms,num_samples, sigma)\n",
    "env = Environment(num_arms,mean,sigma,agent)\n",
    "print(mean)\n",
    "action_list = env.run()\n"
   ]
  },
  {
   "cell_type": "code",
   "execution_count": 12,
   "metadata": {},
   "outputs": [
    {
     "name": "stdout",
     "output_type": "stream",
     "text": [
      "[ 0.22223003 -0.21904834 -0.08869402  0.62603195] [ 19.   9.   9. 963.]\n"
     ]
    }
   ],
   "source": [
    "print(agent.pred_mean,agent.times_choosen)"
   ]
  },
  {
   "cell_type": "code",
   "execution_count": null,
   "metadata": {},
   "outputs": [],
   "source": []
  },
  {
   "cell_type": "code",
   "execution_count": null,
   "metadata": {},
   "outputs": [],
   "source": []
  },
  {
   "cell_type": "code",
   "execution_count": null,
   "metadata": {},
   "outputs": [],
   "source": []
  }
 ],
 "metadata": {
  "kernelspec": {
   "display_name": "base",
   "language": "python",
   "name": "python3"
  },
  "language_info": {
   "codemirror_mode": {
    "name": "ipython",
    "version": 3
   },
   "file_extension": ".py",
   "mimetype": "text/x-python",
   "name": "python",
   "nbconvert_exporter": "python",
   "pygments_lexer": "ipython3",
   "version": "3.11.5"
  }
 },
 "nbformat": 4,
 "nbformat_minor": 2
}
