{
 "cells": [
  {
   "cell_type": "code",
   "execution_count": 45,
   "metadata": {},
   "outputs": [],
   "source": [
    "import numpy as np\n",
    "import math"
   ]
  },
  {
   "cell_type": "code",
   "execution_count": 50,
   "metadata": {},
   "outputs": [],
   "source": [
    "num_samples = 10000\n",
    "num_arms = 4\n",
    "mean = np.random.rand(num_arms,)\n",
    "sigma = 1\n",
    "sorted_mean = np.sort(mean)\n",
    "Delta = sorted_mean[-1]-sorted_mean[-2]"
   ]
  },
  {
   "cell_type": "code",
   "execution_count": 51,
   "metadata": {},
   "outputs": [],
   "source": [
    "class EE21B063_ETC:\n",
    "    def __init__(self,num_arms,num_samples,sigma):\n",
    "        self.__num_arms = num_arms\n",
    "        self.__num_samples = num_samples\n",
    "        self.__sigma = sigma\n",
    "        self.pred_mean = np.zeros(4,dtype = float)\n",
    "        self.init_action = []\n",
    "        self.prev_action = -1\n",
    "        self.m = math.ceil((num_samples**(2.0/3))*(2*np.log(2*num_samples))**(1/3.0))\n",
    "        for i in range(self.__num_arms):\n",
    "            for j in range(int(self.m)): \n",
    "                self.init_action.append(i)\n",
    "                \n",
    "        self.ptr = 0\n",
    "\n",
    "    def get_action(self,reward):\n",
    "        \n",
    "        # write your code here and return the action\n",
    "        if(self.ptr < self.m*self.__num_arms):\n",
    "            if(self.prev_action != -1):\n",
    "                self.pred_mean[self.prev_action] = self.pred_mean[self.prev_action] + reward\n",
    "                cur_action = self.init_action[self.ptr]\n",
    "                self.ptr = self.ptr + 1\n",
    "                self.prev_action = cur_action\n",
    "                return cur_action\n",
    "            else: \n",
    "                self.prev_action = 0\n",
    "                self.ptr = self.ptr + 1\n",
    "                return 0\n",
    "        else:\n",
    "            if(self.ptr == self.m*self.__num_arms):\n",
    "                self.pred_mean[self.prev_action] = self.pred_mean[self.prev_action] + reward\n",
    "                for i in range(self.__num_arms): self.pred_mean[i] = self.pred_mean[i]/self.m\n",
    "                self.ptr = self.ptr + 1\n",
    "            return np.argmax(self.pred_mean)\n"
   ]
  },
  {
   "cell_type": "code",
   "execution_count": 52,
   "metadata": {},
   "outputs": [],
   "source": [
    "class Environment:\n",
    "  def __init__(self,num_arms,mean,sigma,agent):\n",
    "    self.__num_samples = num_samples\n",
    "    self.__num_arms = num_arms\n",
    "    self.__mean = mean\n",
    "    self.__reward = -100\n",
    "    self.__action = np.zeros((num_samples,),dtype = int)\n",
    "    self.__agent = agent\n",
    "    self.__regret = 0\n",
    "\n",
    "  def run(self):\n",
    "    for i in range(self.__num_samples):\n",
    "      self.__action[i] = self.__agent.get_action(self.__reward)\n",
    "      self.__reward = self.__mean[self.__action[i]]+sigma*np.random.randn()\n",
    "    return self.__action\n",
    "\n"
   ]
  },
  {
   "cell_type": "code",
   "execution_count": 53,
   "metadata": {},
   "outputs": [
    {
     "name": "stdout",
     "output_type": "stream",
     "text": [
      "[0.243396   0.94489798 0.02752703 0.69033414]\n",
      "1256\n",
      "[ 0.28271337  0.94104672 -0.00606583  0.66920496]\n"
     ]
    },
    {
     "data": {
      "text/plain": [
       "array([0, 0, 0, ..., 1, 1, 1])"
      ]
     },
     "execution_count": 53,
     "metadata": {},
     "output_type": "execute_result"
    }
   ],
   "source": [
    "agent = EE21B063_ETC(num_arms,num_samples, sigma)\n",
    "env = Environment(num_arms,mean,sigma,agent)\n",
    "action_list= env.run()\n",
    "print(mean)\n",
    "print(agent.m)\n",
    "print(agent.pred_mean)\n",
    "action_list"
   ]
  },
  {
   "cell_type": "code",
   "execution_count": null,
   "metadata": {},
   "outputs": [],
   "source": []
  },
  {
   "cell_type": "code",
   "execution_count": null,
   "metadata": {},
   "outputs": [],
   "source": []
  }
 ],
 "metadata": {
  "kernelspec": {
   "display_name": "base",
   "language": "python",
   "name": "python3"
  },
  "language_info": {
   "codemirror_mode": {
    "name": "ipython",
    "version": 3
   },
   "file_extension": ".py",
   "mimetype": "text/x-python",
   "name": "python",
   "nbconvert_exporter": "python",
   "pygments_lexer": "ipython3",
   "version": "3.11.5"
  }
 },
 "nbformat": 4,
 "nbformat_minor": 2
}
